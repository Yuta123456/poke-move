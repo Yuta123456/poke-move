{
 "cells": [
  {
   "cell_type": "code",
   "execution_count": 7,
   "metadata": {},
   "outputs": [],
   "source": [
    "import requests\n",
    "import json\n",
    "import time\n"
   ]
  },
  {
   "cell_type": "code",
   "execution_count": 10,
   "metadata": {},
   "outputs": [],
   "source": [
    "for i in range(4, 2000):\n",
    "    pokemon = requests.get(f'https://pokeapi.co/api/v2/pokemon/{i}')\n",
    "    with open(f'D:/tanaka/Documents/poke-move/data/pokemons/{i}.json', 'w') as f:\n",
    "        json.dump(pokemon.json(), f)\n",
    "    time.sleep(1)"
   ]
  },
  {
   "cell_type": "code",
   "execution_count": null,
   "metadata": {},
   "outputs": [],
   "source": [
    "for i in range(1, 2000):\n",
    "    pokemon = requests.get(f'https://pokeapi.co/api/v2/move/{i}')\n",
    "    with open(f'D:/tanaka/Documents/poke-move/data/pokemons/{i}.json', 'w') as f:\n",
    "        json.dump(pokemon.json(), f)\n",
    "    time.sleep(1)"
   ]
  }
 ],
 "metadata": {
  "kernelspec": {
   "display_name": "base",
   "language": "python",
   "name": "python3"
  },
  "language_info": {
   "codemirror_mode": {
    "name": "ipython",
    "version": 3
   },
   "file_extension": ".py",
   "mimetype": "text/x-python",
   "name": "python",
   "nbconvert_exporter": "python",
   "pygments_lexer": "ipython3",
   "version": "3.9.7"
  },
  "orig_nbformat": 4
 },
 "nbformat": 4,
 "nbformat_minor": 2
}
