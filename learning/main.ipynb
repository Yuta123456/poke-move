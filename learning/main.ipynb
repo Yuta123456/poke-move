{
 "cells": [
  {
   "cell_type": "code",
   "execution_count": null,
   "metadata": {},
   "outputs": [],
   "source": [
    "import torch.nn as nn\n",
    "from torchvision import models\n",
    "import torch\n",
    "import torchvision.transforms as transforms\n",
    "from PIL import Image\n",
    "from transformers import AutoTokenizer, AutoModel\n",
    "import pandas as pd"
   ]
  },
  {
   "cell_type": "code",
   "execution_count": null,
   "metadata": {},
   "outputs": [],
   "source": [
    "if torch.cuda.is_available():\n",
    "    device = torch.device(\"cuda\")  # GPUデバイスを取得\n",
    "else:\n",
    "    device = torch.device(\"cpu\")  # CPUデバイスを取得"
   ]
  },
  {
   "cell_type": "code",
   "execution_count": null,
   "metadata": {},
   "outputs": [],
   "source": [
    "import importlib\n",
    "import Entity\n",
    "from Entity import CustomDataset\n"
   ]
  },
  {
   "cell_type": "code",
   "execution_count": null,
   "metadata": {},
   "outputs": [],
   "source": [
    "from learning.Entity.CustomDataset import PokemonMoveDataset\n",
    "\n",
    "\n",
    "dataset = PokemonMoveDataset('D:/tanaka\\Documents\\poke-move\\data\\my-dataset\\dataset_without_status_z_no_leadned.txt', device)"
   ]
  },
  {
   "cell_type": "code",
   "execution_count": null,
   "metadata": {},
   "outputs": [],
   "source": [
    "from torch.utils.data import DataLoader\n",
    "learning_rate = 1e-5\n",
    "batch_size = 16\n",
    "epochs = 10\n",
    "train_size = int(0.8 * len(dataset))\n",
    "val_size = len(dataset) - train_size\n",
    "\n",
    "train_dataset, test_dataset = torch.utils.data.random_split(\n",
    "    dataset, [train_size, val_size]\n",
    ")\n",
    "\n",
    "train_dataloader = DataLoader(train_dataset, batch_size=batch_size, shuffle=True)\n",
    "test_dataloader = DataLoader(test_dataset, batch_size=batch_size, shuffle=True)"
   ]
  },
  {
   "cell_type": "code",
   "execution_count": null,
   "metadata": {},
   "outputs": [],
   "source": [
    "import torch.nn.functional as F\n",
    "import sys\n",
    "import os\n",
    "from datetime import datetime\n",
    "from learning.Encoder.MoveEncoder import MoveEncoder\n",
    "from learning.Encoder.PokemonEncoder import PokemonEncoder\n",
    "\n",
    "from learning.LossFunctions.ContractiveLoss import ContrastiveLoss\n",
    "\n",
    "\n",
    "pokemon_model = PokemonEncoder(device).to(device)\n",
    "move_model = MoveEncoder(device).to(device)\n",
    "# image_model.load_state_dict(torch.load('model/model_image_2023-07-07.pth'))\n",
    "# caption_model.load_state_dict(torch.load('model/model_caption_2023-07-06.pth'))\n",
    "pokemon_optimizer = torch.optim.Adam(pokemon_model.parameters(), lr=learning_rate)\n",
    "move_optimizer = torch.optim.Adam(move_model.parameters(), lr=learning_rate)\n",
    "\n",
    "loss_fn = ContrastiveLoss(margin=2)"
   ]
  },
  {
   "cell_type": "code",
   "execution_count": null,
   "metadata": {},
   "outputs": [],
   "source": [
    "def train_loop(dataloader, pokemon_model: PokemonEncoder, move_model: MoveEncoder, loss_fn, poke_opt, move_opt):\n",
    "    size = len(dataloader.dataset)\n",
    "    for batch, (pokemon, move, label) in enumerate(dataloader):        \n",
    "        # 予測と損失の計算\n",
    "        label = label.to(device)\n",
    "        pred = pokemon_model(pokemon)\n",
    "        target = move_model(move)\n",
    "        # ここ不安\n",
    "        # print(target.shape, pred.shape)\n",
    "        loss = loss_fn(pred, target, label)\n",
    "\n",
    "        # バックプロパゲーション\n",
    "        poke_opt.zero_grad()\n",
    "        move_opt.zero_grad()\n",
    "        loss.backward()\n",
    "        poke_opt.step()\n",
    "        move_opt.step()\n",
    "\n",
    "        if batch % 30 == 0:\n",
    "            loss, current = loss.item() / len(pokemon), batch * len(label)\n",
    "            print(f\"loss: {loss:>7f}  [{current:>5d}/{size:>5d}]\")\n",
    "        if batch % 1000 == 0:\n",
    "            # 現在の日付を取得します\n",
    "            now = datetime.now()\n",
    "\n",
    "            # YYYY-MM-DD形式で日付を出力します\n",
    "            formatted_date = now.strftime(\"%Y-%m-%d\")\n",
    "            torch.save(pokemon_model.state_dict(), f'./pokemon_model_{formatted_date}.pth')\n",
    "            torch.save(move_model.state_dict(), f'./move_model_{formatted_date}.pth')\n",
    "\n",
    "def test_loop(dataloader, pokemon_model: PokemonEncoder, move_model: MoveEncoder, loss_fn):\n",
    "    size = len(dataloader.dataset)\n",
    "    test_loss = 0\n",
    "\n",
    "    with torch.no_grad():\n",
    "        for (pokemon, move, label) in dataloader:\n",
    "            label = label.to(device)\n",
    "            pred = pokemon_model(pokemon)\n",
    "            target = move_model(move)\n",
    "            loss = loss_fn(pred, target, label).mean()\n",
    "            test_loss += loss.item()\n",
    "\n",
    "    test_loss /= size\n",
    "    print(f\"Avg loss: {test_loss:>8f} \\n\")"
   ]
  },
  {
   "cell_type": "code",
   "execution_count": null,
   "metadata": {},
   "outputs": [
    {
     "name": "stdout",
     "output_type": "stream",
     "text": [
      "start\n",
      "Epoch 1\\-------------------------------\n",
      "loss: 2340.606771  [    0/403999]\n"
     ]
    }
   ],
   "source": [
    "print(\"start\")\n",
    "for t in range(epochs):\n",
    "    print(f\"Epoch {t+1}\\-------------------------------\")\n",
    "    train_loop(train_dataloader, pokemon_model, move_model, loss_fn, pokemon_optimizer, move_optimizer)\n",
    "    test_loop(test_dataloader, pokemon_model, move_model, loss_fn)\n",
    "print(\"Done!\")"
   ]
  }
 ],
 "metadata": {
  "kernelspec": {
   "display_name": "base",
   "language": "python",
   "name": "python3"
  },
  "language_info": {
   "codemirror_mode": {
    "name": "ipython",
    "version": 3
   },
   "file_extension": ".py",
   "mimetype": "text/x-python",
   "name": "python",
   "nbconvert_exporter": "python",
   "pygments_lexer": "ipython3",
   "version": "3.9.7"
  },
  "orig_nbformat": 4
 },
 "nbformat": 4,
 "nbformat_minor": 2
}
