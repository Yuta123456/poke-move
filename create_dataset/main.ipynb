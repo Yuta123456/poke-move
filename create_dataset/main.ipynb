{
 "cells": [
  {
   "cell_type": "code",
   "execution_count": 23,
   "metadata": {},
   "outputs": [],
   "source": [
    "import json\n",
    "import glob\n",
    "import matplotlib.pyplot as plt"
   ]
  },
  {
   "cell_type": "markdown",
   "metadata": {},
   "source": [
    "# データセット作成\n",
    "## 形式\n",
    "- (pokemon_id, moves_id, label, method)"
   ]
  },
  {
   "cell_type": "code",
   "execution_count": 24,
   "metadata": {},
   "outputs": [],
   "source": [
    "moves = glob.glob('../data/moves/*.json')\n",
    "move_dict = {}\n",
    "remove_move = set()\n",
    "CANT_USE_MOVE_KEY = \"This move can\\u2019t be used.\\nIt\\u2019s recommended that this move is forgotten.\\nOnce forgotten, this move can\\u2019t be remembered.\"\n",
    "# {\n",
    "#     \"flavor_text\": \"This move can\\u2019t be used.\\nIt\\u2019s recommended that this move is forgotten.\\nOnce forgotten, this move can\\u2019t be remembered.\",\n",
    "#     \"language\": {\n",
    "#         \"name\": \"en\",\n",
    "#         \"url\": \"https://pokeapi.co/api/v2/language/9/\"\n",
    "#     },\n",
    "#     \"version_group\": {\n",
    "#         \"name\": \"sword-shield\",\n",
    "#         \"url\": \"https://pokeapi.co/api/v2/version-group/20/\"\n",
    "#     }\n",
    "# },\n",
    "for pp in moves:\n",
    "    with open(pp, 'r') as f:\n",
    "        move = json.load(f)\n",
    "    move_id = move[\"id\"]\n",
    "    if len(move[\"learned_by_pokemon\"]) < 20:\n",
    "        remove_move.add(move_id)\n",
    "        continue\n",
    "    if move[\"damage_class\"][\"name\"] == \"status\":\n",
    "        remove_move.add(move_id)\n",
    "        continue\n",
    "    if len(move[\"flavor_text_entries\"]) == 0:\n",
    "        remove_move.add(move_id)\n",
    "        continue\n",
    "    if move[\"pp\"] <= 1:\n",
    "        # z技\n",
    "        remove_move.add(move_id)\n",
    "        continue\n",
    "    if move[\"name\"].startswith(\"max-\"):\n",
    "        remove_move.add(move_id)\n",
    "        continue\n",
    "    descriptions_in_en = list(filter(lambda x: x[\"language\"][\"name\"] == 'en' and x[\"flavor_text\"] != CANT_USE_MOVE_KEY, move[\"flavor_text_entries\"]))\n",
    "    if len(descriptions_in_en) == 0:\n",
    "        remove_move.add(move_id)\n",
    "        continue\n",
    "    move_name = move[\"name\"]\n",
    "    move_dict[move_name] = move_id\n",
    "    "
   ]
  },
  {
   "cell_type": "code",
   "execution_count": 25,
   "metadata": {},
   "outputs": [],
   "source": [
    "pokemons = glob.glob('../data/pokemons/*.json')\n",
    "pokemon_move_mapping = {}\n",
    "\n",
    "for pp in pokemons:\n",
    "    with open(pp, 'r') as f:\n",
    "        pokemon = json.load(f)\n",
    "    pokemon_id = pokemon[\"id\"]\n",
    "    moves = pokemon[\"moves\"]\n",
    "    pokemon_moves = {}\n",
    "    for move in moves:\n",
    "        move_name = move[\"move\"][\"name\"]\n",
    "        last_varsion = move[\"version_group_details\"][-1]\n",
    "        learn_method = last_varsion[\"move_learn_method\"][\"name\"]\n",
    "        if move_name not in move_dict:\n",
    "            continue\n",
    "        move_id = move_dict[move_name]\n",
    "        pokemon_moves[move_id] = learn_method\n",
    "    pokemon_move_mapping[pokemon_id] = pokemon_moves"
   ]
  },
  {
   "cell_type": "code",
   "execution_count": 26,
   "metadata": {},
   "outputs": [
    {
     "name": "stdout",
     "output_type": "stream",
     "text": [
      "35.203520352035206%"
     ]
    }
   ],
   "source": [
    "text = \"\"\n",
    "count = 0\n",
    "max_length = 1010 * 900\n",
    "for pokemon_id in range(1,1011):\n",
    "    pokemon = pokemon_move_mapping[pokemon_id]\n",
    "    for move_id in range(1, 901):\n",
    "        if move_id in remove_move:\n",
    "            continue\n",
    "        if move_id in pokemon:\n",
    "            # この技をこのポケモンが覚える\n",
    "            text += f'{pokemon_id}, {move_id}, 1, {pokemon[move_id]}\\n'\n",
    "        else:\n",
    "            # この技をこのポケモンが覚えない\n",
    "            text +=  f'{pokemon_id}, {move_id}, 0,\\n'\n",
    "        count += 1\n",
    "        if count % 10000 == 0:\n",
    "            print(f'\\r{count * 100 / max_length}%', end='')"
   ]
  },
  {
   "cell_type": "code",
   "execution_count": 27,
   "metadata": {},
   "outputs": [],
   "source": [
    "with open('D:/tanaka/Documents/poke-move/data/my-dataset/dataset_without_low_count_move.txt', 'w') as f:\n",
    "    f.write(text)"
   ]
  },
  {
   "cell_type": "code",
   "execution_count": 28,
   "metadata": {},
   "outputs": [],
   "source": [
    "with open('D:/tanaka/Documents/poke-move/data/my-dataset/remove_move_ids', 'w') as f:\n",
    "    f.write(\"\\n\".join(list(map(str, list(remove_move)))))"
   ]
  },
  {
   "cell_type": "code",
   "execution_count": 29,
   "metadata": {},
   "outputs": [],
   "source": [
    "# remove_moveの名前確認\n",
    "\n",
    "import sys\n",
    "import os\n",
    "\n",
    "sys.path.append(os.path.abspath(\"../\"))\n",
    "from learning.Entity.CustomDataset import PokemonMoveDataset\n",
    "import torch\n",
    "if torch.cuda.is_available():\n",
    "    device = torch.device(\"cuda\")  # GPUデバイスを取得\n",
    "else:\n",
    "    device = torch.device(\"cpu\")  # CPUデバイスを取得\n",
    "dataset = PokemonMoveDataset('D:/tanaka/Documents/poke-move/data/my-dataset/dataset.txt', device)"
   ]
  },
  {
   "cell_type": "code",
   "execution_count": 30,
   "metadata": {},
   "outputs": [
    {
     "name": "stdout",
     "output_type": "stream",
     "text": [
      "875\n",
      "876\n"
     ]
    }
   ],
   "source": [
    "import json\n",
    "text = \"\"\n",
    "for move_id in list(remove_move):\n",
    "    move = dataset.moves[move_id-1]\n",
    "    with open(f'D:/tanaka/Documents/poke-move/data\\moves\\{move_id}.json') as f:\n",
    "        m = json.load(f)\n",
    "    name = list(filter(lambda x: x[\"language\"][\"name\"] == 'ja', m[\"names\"]))\n",
    "    if len(name) == 0:\n",
    "        print(move_id)\n",
    "        continue\n",
    "    name = name[0]\n",
    "    text += name[\"name\"] + '\\n'\n"
   ]
  },
  {
   "cell_type": "code",
   "execution_count": 31,
   "metadata": {},
   "outputs": [],
   "source": [
    "with open('remove_move_names.txt', 'w') as f:\n",
    "    f.write(text)"
   ]
  }
 ],
 "metadata": {
  "kernelspec": {
   "display_name": "base",
   "language": "python",
   "name": "python3"
  },
  "language_info": {
   "codemirror_mode": {
    "name": "ipython",
    "version": 3
   },
   "file_extension": ".py",
   "mimetype": "text/x-python",
   "name": "python",
   "nbconvert_exporter": "python",
   "pygments_lexer": "ipython3",
   "version": "3.9.7"
  },
  "orig_nbformat": 4
 },
 "nbformat": 4,
 "nbformat_minor": 2
}
