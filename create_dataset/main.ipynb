{
 "cells": [
  {
   "cell_type": "code",
   "execution_count": 1,
   "metadata": {},
   "outputs": [],
   "source": [
    "import json\n",
    "import glob\n",
    "import matplotlib.pyplot as plt"
   ]
  },
  {
   "cell_type": "markdown",
   "metadata": {},
   "source": [
    "# データセット作成\n",
    "## 形式\n",
    "- (pokemon_id, moves_id, label, method)"
   ]
  },
  {
   "cell_type": "code",
   "execution_count": 2,
   "metadata": {},
   "outputs": [],
   "source": [
    "moves = glob.glob('../data/moves/*.json')\n",
    "move_dict = {}\n",
    "for pp in moves:\n",
    "    with open(pp, 'r') as f:\n",
    "        move = json.load(f)\n",
    "    move_id = move[\"id\"]\n",
    "    move_name = move[\"name\"]\n",
    "    move_dict[move_name] = move_id\n",
    "    "
   ]
  },
  {
   "cell_type": "code",
   "execution_count": 3,
   "metadata": {},
   "outputs": [],
   "source": [
    "pokemons = glob.glob('../data/pokemons/*.json')\n",
    "pokemon_move_mapping = {}\n",
    "\n",
    "for pp in pokemons:\n",
    "    with open(pp, 'r') as f:\n",
    "        pokemon = json.load(f)\n",
    "    pokemon_id = pokemon[\"id\"]\n",
    "    moves = pokemon[\"moves\"]\n",
    "    pokemon_moves = {}\n",
    "    for move in moves:\n",
    "        move_name = move[\"move\"][\"name\"]\n",
    "        last_varsion = move[\"version_group_details\"][-1]\n",
    "        learn_method = last_varsion[\"move_learn_method\"][\"name\"]\n",
    "        move_id = move_dict[move_name]\n",
    "        pokemon_moves[move_id] = learn_method\n",
    "    pokemon_move_mapping[pokemon_id] = pokemon_moves"
   ]
  },
  {
   "cell_type": "code",
   "execution_count": 4,
   "metadata": {},
   "outputs": [
    {
     "name": "stdout",
     "output_type": "stream",
     "text": [
      "99.00990099009901%%"
     ]
    }
   ],
   "source": [
    "text = \"\"\n",
    "count = 0\n",
    "max_length = 1010 * 900\n",
    "for pokemon_id in range(1,1011):\n",
    "    pokemon = pokemon_move_mapping[pokemon_id]\n",
    "    for move_id in range(1, 901):\n",
    "        if move_id in pokemon:\n",
    "            # この技をこのポケモンが覚える\n",
    "            text += f'{pokemon_id}, {move_id}, 1, {pokemon[move_id]}\\n'\n",
    "        else:\n",
    "            # この技をこのポケモンが覚えない\n",
    "            text +=  f'{pokemon_id}, {move_id}, 0\\n'\n",
    "        count += 1\n",
    "        if count % 10000 == 0:\n",
    "            print(f'\\r{count * 100 / max_length}%', end='')"
   ]
  },
  {
   "cell_type": "code",
   "execution_count": 6,
   "metadata": {},
   "outputs": [],
   "source": [
    "with open('D:/tanaka/Documents/poke-move/data/dataset.txt', 'w') as f:\n",
    "    f.write(text)"
   ]
  }
 ],
 "metadata": {
  "kernelspec": {
   "display_name": "base",
   "language": "python",
   "name": "python3"
  },
  "language_info": {
   "codemirror_mode": {
    "name": "ipython",
    "version": 3
   },
   "file_extension": ".py",
   "mimetype": "text/x-python",
   "name": "python",
   "nbconvert_exporter": "python",
   "pygments_lexer": "ipython3",
   "version": "3.9.7"
  },
  "orig_nbformat": 4
 },
 "nbformat": 4,
 "nbformat_minor": 2
}
