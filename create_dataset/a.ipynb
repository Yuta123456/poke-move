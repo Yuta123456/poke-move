{
 "cells": [
  {
   "cell_type": "code",
   "execution_count": 2,
   "metadata": {},
   "outputs": [],
   "source": [
    "import os\n",
    "import pandas as pd\n",
    "from torchvision.io import read_image\n",
    "from torch.utils.data import Dataset\n",
    "from torchvision import transforms\n",
    "from transformers import AutoTokenizer, AutoModel\n",
    "import numpy as np\n",
    "from PIL import Image\n",
    "import json\n",
    "import os\n",
    "import sys\n",
    "sys.path.append(os.path.abspath(\"../\"))\n",
    "from learning.Entity.Move import Move\n",
    "from learning.Entity.Pokemon import Pokemon\n"
   ]
  },
  {
   "cell_type": "code",
   "execution_count": 3,
   "metadata": {},
   "outputs": [],
   "source": [
    "pokemons = []\n",
    "for pokemon_id in range(1, 1011):\n",
    "    with open(\n",
    "        f\"D:/tanaka/Documents/poke-move/data/pokemons/{pokemon_id}.json\", \"r\"\n",
    "    ) as f:\n",
    "        pokemon_original = json.load(f)\n",
    "    with open(\n",
    "        f\"D:/tanaka/Documents/poke-move/data/pokemon-species/{pokemon_id}.json\",\n",
    "        \"r\",\n",
    "    ) as f:\n",
    "        pokemon_species = json.load(f)\n",
    "    types = [t[\"type\"][\"name\"] for t in pokemon_original[\"types\"]]\n",
    "    egg_groups = [e[\"name\"] for e in pokemon_species[\"egg_groups\"]]\n",
    "    abilities = [a[\"ability\"][\"name\"] for a in pokemon_original[\"abilities\"]]\n",
    "    stats = [s[\"base_stat\"] for s in pokemon_original[\"stats\"]]\n",
    "    pokemon = {\n",
    "        \"pokemon_id\": pokemon_id,\n",
    "        \"name\":pokemon_original[\"name\"],\n",
    "        \"types\": types,\n",
    "        \"egg_groups\": egg_groups,\n",
    "        \"base_experience\": pokemon_original[\"base_experience\"],\n",
    "        \"abilities\": abilities,\n",
    "        \"height\": pokemon_original[\"height\"],\n",
    "        \"weight\": pokemon_original[\"weight\"],\n",
    "        \"stats\": stats,\n",
    "        \"color\": pokemon_species[\"color\"][\"name\"],\n",
    "        \"shape\": pokemon_species[\"shape\"][\"name\"] if pokemon_species[\"shape\"] != None else None,\n",
    "        \"is_legendary\": pokemon_species[\"is_legendary\"],\n",
    "        \"is_baby\": pokemon_species[\"is_baby\"],\n",
    "        \"is_mythical\": pokemon_species[\"is_mythical\"],\n",
    "    }\n",
    "    pokemons.append(pokemon)"
   ]
  },
  {
   "cell_type": "code",
   "execution_count": 4,
   "metadata": {},
   "outputs": [],
   "source": [
    "with open('D:/tanaka/Documents/poke-move/data/my-dataset/pokemons.json', 'w') as f:\n",
    "    json.dump(pokemons, f)\n",
    "    "
   ]
  },
  {
   "cell_type": "code",
   "execution_count": 6,
   "metadata": {},
   "outputs": [],
   "source": [
    "moves = []\n",
    "for move_id in range(1, 901):\n",
    "    with open(\n",
    "        f\"D:/tanaka/Documents/poke-move/data/moves/{move_id}.json\", \"r\"\n",
    "    ) as f:\n",
    "        move_original = json.load(f)\n",
    "    description = list(filter(lambda x: x['language']['name'] == 'en', move_original[\"flavor_text_entries\"]))\n",
    "    if len(description) == 0:\n",
    "        description = None\n",
    "    else:\n",
    "        description = description[-1][\"flavor_text\"]\n",
    "    move = {\n",
    "        \"move_id\": move_id,\n",
    "        \"name\": move_original[\"name\"],\n",
    "        \"move_type\": move_original[\"type\"][\"name\"],\n",
    "        \"description\": description,\n",
    "        \"accuracy\": move_original[\"accuracy\"],\n",
    "        \"pp\": move_original[\"pp\"],\n",
    "        \"priority\": move_original[\"priority\"],\n",
    "        \"power\": move_original[\"power\"],\n",
    "        \"damage_class\": move_original[\"damage_class\"][\"name\"],\n",
    "        \"can_learn_machine\": bool(len(move_original[\"machines\"]))\n",
    "    }\n",
    "    moves.append(move)"
   ]
  },
  {
   "cell_type": "code",
   "execution_count": 7,
   "metadata": {},
   "outputs": [],
   "source": [
    "with open('D:/tanaka/Documents/poke-move/data/my-dataset/moves.json', 'w') as f:\n",
    "    json.dump(moves, f)\n",
    "    "
   ]
  }
 ],
 "metadata": {
  "kernelspec": {
   "display_name": "base",
   "language": "python",
   "name": "python3"
  },
  "language_info": {
   "codemirror_mode": {
    "name": "ipython",
    "version": 3
   },
   "file_extension": ".py",
   "mimetype": "text/x-python",
   "name": "python",
   "nbconvert_exporter": "python",
   "pygments_lexer": "ipython3",
   "version": "3.9.7"
  },
  "orig_nbformat": 4
 },
 "nbformat": 4,
 "nbformat_minor": 2
}
