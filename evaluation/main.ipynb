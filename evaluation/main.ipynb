{
 "cells": [
  {
   "cell_type": "code",
   "execution_count": 23,
   "metadata": {},
   "outputs": [],
   "source": [
    "import torch.nn as nn\n",
    "from torchvision import models\n",
    "import torch\n",
    "import torchvision.transforms as transforms\n",
    "from PIL import Image\n",
    "from transformers import AutoTokenizer, AutoModel\n",
    "import pandas as pd\n",
    "import gc"
   ]
  },
  {
   "cell_type": "code",
   "execution_count": 24,
   "metadata": {},
   "outputs": [],
   "source": [
    "if torch.cuda.is_available():\n",
    "    device = torch.device(\"cuda\")  # GPUデバイスを取得\n",
    "else:\n",
    "    device = torch.device(\"cpu\")  # CPUデバイスを取得"
   ]
  },
  {
   "cell_type": "code",
   "execution_count": 25,
   "metadata": {},
   "outputs": [],
   "source": [
    "import sys\n",
    "import os\n",
    "\n",
    "sys.path.append(os.path.abspath(\"../\"))\n",
    "from learning.Entity.CustomDataset import PokemonMoveDataset\n",
    "import json\n",
    "\n"
   ]
  },
  {
   "cell_type": "code",
   "execution_count": 26,
   "metadata": {},
   "outputs": [],
   "source": [
    "dataset = PokemonMoveDataset('D:/tanaka/Documents/poke-move/data/my-dataset/dataset_without_status_z_no_leadned.txt', device)"
   ]
  },
  {
   "cell_type": "code",
   "execution_count": 27,
   "metadata": {},
   "outputs": [
    {
     "data": {
      "text/plain": [
       "MoveEncoder(\n",
       "  (type_nn): Linear(in_features=18, out_features=4, bias=True)\n",
       "  (damage_class_nn): Linear(in_features=3, out_features=1, bias=True)\n",
       "  (features_nn1): Linear(in_features=10, out_features=32, bias=True)\n",
       "  (features_nn2): Linear(in_features=32, out_features=64, bias=True)\n",
       "  (features_nn3): Linear(in_features=64, out_features=128, bias=True)\n",
       "  (relu): ReLU()\n",
       ")"
      ]
     },
     "execution_count": 27,
     "metadata": {},
     "output_type": "execute_result"
    }
   ],
   "source": [
    "from learning.Encoder.MoveEncoder import MoveEncoder\n",
    "from learning.Encoder.PokemonEncoder import PokemonEncoder\n",
    "\n",
    "\n",
    "pokemon_model = PokemonEncoder(device).to(device)\n",
    "move_model = MoveEncoder(device).to(device)\n",
    "# D:\\tanaka\\Documents\\poke-move\\learning\\pokemon_model_no-bert_2023-08-10-epoch-9.pth\n",
    "poke_model_name = 'D:/tanaka/Documents/poke-move/learning/pokemon_model_no-bert_2023-08-10.pth'\n",
    "move_model_name = 'D:/tanaka/Documents/poke-move/learning/move_model_no-bert_2023-08-10.pth'\n",
    "pokemon_model.load_state_dict(torch.load(poke_model_name))\n",
    "move_model.load_state_dict(torch.load(move_model_name))\n",
    "pokemon_model.eval()\n",
    "move_model.eval()"
   ]
  },
  {
   "cell_type": "code",
   "execution_count": 28,
   "metadata": {},
   "outputs": [],
   "source": [
    "pokemon_vectors = []\n",
    "for i, pokemon in enumerate(dataset.pokemons):\n",
    "    poke_vector = dataset.pokemon_to_vector(pokemon)\n",
    "    for key in poke_vector.keys():\n",
    "        poke_vector[key] = poke_vector[key].unsqueeze(0)\n",
    "    v = pokemon_model(poke_vector).to('cpu')\n",
    "    pokemon_vectors.append(v)\n",
    "    del poke_vector\n",
    "pokemon_vectors = torch.cat(pokemon_vectors, dim=0)"
   ]
  },
  {
   "cell_type": "code",
   "execution_count": 29,
   "metadata": {},
   "outputs": [
    {
     "name": "stdout",
     "output_type": "stream",
     "text": [
      "899回終了"
     ]
    }
   ],
   "source": [
    "from memory_profiler import profile\n",
    "\n",
    "move_vectors = []\n",
    "for i, move in enumerate(dataset.moves):\n",
    "    move_vector = dataset.move_to_vector(move)\n",
    "    for key in move_vector.keys():\n",
    "        if key == 'description':\n",
    "            move_vector[key] = [move_vector[key]]\n",
    "            continue\n",
    "        move_vector[key] = move_vector[key].unsqueeze(0)\n",
    "    with torch.no_grad():\n",
    "        v = move_model(move_vector).to('cpu')\n",
    "    move_vectors.append(v)\n",
    "    print(f'\\r{i}回終了', end='')\n",
    "move_vectors = torch.cat(move_vectors, dim=0)"
   ]
  },
  {
   "cell_type": "code",
   "execution_count": 30,
   "metadata": {},
   "outputs": [],
   "source": [
    "import random\n",
    "\n",
    "move_rankings = []\n",
    "pokemon_ids = [random.randint(1, 1010) for i in range(5)]\n",
    "for pokemon_id in pokemon_ids:\n",
    "    # 各ベクトルのユークリッド距離を計算\n",
    "    distances = torch.norm(pokemon_vectors[pokemon_id] - move_vectors, dim=1)\n",
    "\n",
    "    # 距離を用いてベクトルBの添え字を並び替え\n",
    "    sorted_indices = torch.argsort(distances)\n",
    "    move_rankings.append(sorted_indices)\n"
   ]
  },
  {
   "cell_type": "code",
   "execution_count": 31,
   "metadata": {},
   "outputs": [],
   "source": [
    "text = ''\n",
    "remove_move_ids = set([2,4,11,12,14,18,26,27,28,39,41,43,45,46,47,48,49,50,54,73,74,77,78,79,81,86,92,95,96,97,100,102,103,104,105,106,107,108,109,110,111,112,113,114,115,116,118,119,121,124,125,128,131,132,133,134,135,136,137,139,140,142,144,146,147,148,150,151,152,155,156,158,159,160,164,165,166,167,169,170,171,174,176,177,178,180,182,183,184,186,187,190,191,193,194,195,197,198,199,201,203,204,207,208,212,213,214,215,217,219,220,221,226,227,230,233,234,235,236,238,240,241,244,254,256,258,259,260,261,262,265,266,267,268,269,270,271,272,273,274,275,277,278,281,284,285,286,287,288,289,292,293,294,295,296,297,298,299,300,301,302,303,307,308,309,312,313,316,319,320,321,322,323,325,327,334,335,336,338,339,344,346,347,349,353,354,355,356,357,361,366,367,373,375,376,377,379,380,381,382,383,384,385,388,390,391,392,393,395,397,415,417,418,432,433,439,443,445,446,448,449,454,455,456,459,460,461,462,463,464,465,467,468,469,470,471,472,475,476,477,478,480,483,487,489,493,494,495,501,502,504,505,508,509,511,513,516,526,531,532,533,536,537,538,539,540,543,544,545,546,547,548,549,550,551,552,553,554,557,558,559,560,561,563,564,567,568,569,570,571,575,576,578,579,580,581,582,586,587,588,589,590,591,592,593,594,596,597,598,599,600,601,602,603,604,606,607,608,610,613,614,615,616,617,618,619,620,621,622,623,624,625,626,627,628,629,630,631,632,633,634,635,636,637,638,639,640,641,642,643,644,645,646,647,648,649,650,651,652,653,654,655,656,657,658,659,660,661,662,664,665,666,668,671,672,673,674,677,678,679,680,681,682,683,685,686,687,688,689,690,691,692,694,695,696,697,698,699,700,701,702,703,704,705,708,709,711,712,713,714,715,716,717,718,719,720,721,722,723,724,725,726,727,728,729,730,731,732,733,734,735,736,737,738,739,740,741,742,743,744,745,746,747,748,749,750,751,752,753,754,755,756,757,758,759,760,761,762,763,764,765,766,767,768,769,770,771,772,773,774,775,777,778,779,780,781,782,783,785,786,787,788,789,790,791,792,793,794,795,801,810,811,816,817,818,819,820,821,822,823,824,825,826,827,828,829,830,831,832,833,834,835,836,837,838,839,840,841,842,843,844,845,846,847,848,849,850,851,852,853,854,855,856,857,858,859,860,861,862,863,864,865,866,867,868,869,870,871,872,873,874,875,876,877,878,879,880,881,882,883,884,885,886,887,888,889,890,891,892,893,894,895,896,897,898,899,900])\n",
    "for i in range(len(move_rankings)):\n",
    "    move_rankings[i] = [move_id for move_id in move_rankings[i] if move_id.item() + 1 not in remove_move_ids]\n",
    "\n",
    "for i, pokemon_id in enumerate(pokemon_ids):\n",
    "    pokemon = dataset.pokemons[pokemon_id]\n",
    "    text += f'選ばれたポケモン: {pokemon.name}\\n'\n",
    "    text += f'近い技 TOP100\\n'\n",
    "    for j, move_id in enumerate(move_rankings[i][:100]):\n",
    "        move = dataset.moves[move_id]\n",
    "        with open(f'D:/tanaka/Documents/poke-move/data\\moves\\{move_id + 1}.json') as f:\n",
    "            m = json.load(f)\n",
    "        name = list(filter(lambda x: x[\"language\"][\"name\"] == 'ja', m[\"names\"]))[0]\n",
    "        text += f'{j}: {name[\"name\"]}\\n'"
   ]
  },
  {
   "cell_type": "code",
   "execution_count": 32,
   "metadata": {},
   "outputs": [
    {
     "data": {
      "text/plain": [
       "tensor(231)"
      ]
     },
     "execution_count": 32,
     "metadata": {},
     "output_type": "execute_result"
    }
   ],
   "source": [
    "move_rankings[0][1]"
   ]
  },
  {
   "cell_type": "code",
   "execution_count": 33,
   "metadata": {},
   "outputs": [],
   "source": [
    "with open('output.txt', 'w') as f:\n",
    "    f.write(text)"
   ]
  },
  {
   "cell_type": "code",
   "execution_count": 34,
   "metadata": {},
   "outputs": [],
   "source": [
    "torch.save(pokemon_vectors, 'pokemon_vector.pt')\n",
    "torch.save(move_vectors, 'move_vector.pt')"
   ]
  }
 ],
 "metadata": {
  "kernelspec": {
   "display_name": "base",
   "language": "python",
   "name": "python3"
  },
  "language_info": {
   "codemirror_mode": {
    "name": "ipython",
    "version": 3
   },
   "file_extension": ".py",
   "mimetype": "text/x-python",
   "name": "python",
   "nbconvert_exporter": "python",
   "pygments_lexer": "ipython3",
   "version": "3.9.7"
  },
  "orig_nbformat": 4
 },
 "nbformat": 4,
 "nbformat_minor": 2
}
