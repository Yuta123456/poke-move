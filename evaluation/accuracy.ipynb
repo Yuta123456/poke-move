{
 "cells": [
  {
   "cell_type": "code",
   "execution_count": 1,
   "metadata": {},
   "outputs": [],
   "source": [
    "import torch.nn as nn\n",
    "from torchvision import models\n",
    "import torch\n",
    "import torchvision.transforms as transforms\n",
    "from PIL import Image\n",
    "from transformers import AutoTokenizer, AutoModel\n",
    "import pandas as pd\n",
    "import gc"
   ]
  },
  {
   "cell_type": "code",
   "execution_count": 2,
   "metadata": {},
   "outputs": [],
   "source": [
    "if torch.cuda.is_available():\n",
    "    device = torch.device(\"cuda\")  # GPUデバイスを取得\n",
    "else:\n",
    "    device = torch.device(\"cpu\")  # CPUデバイスを取得"
   ]
  },
  {
   "cell_type": "code",
   "execution_count": 5,
   "metadata": {},
   "outputs": [],
   "source": [
    "import sys\n",
    "import os\n",
    "\n",
    "sys.path.append(os.path.abspath(\"../\"))\n",
    "from learning.Entity.CustomDataset import PokemonMoveDataset\n",
    "\n",
    "\n",
    "dataset = PokemonMoveDataset('D:/tanaka/Documents/poke-move/data/my-dataset/dataset.txt', device)\n",
    "\n",
    "pokemon_vectors = torch.load('./pokemon_vector.pt')\n",
    "move_vectors = torch.load('./move_vector.pt')"
   ]
  },
  {
   "cell_type": "code",
   "execution_count": 13,
   "metadata": {},
   "outputs": [],
   "source": [
    "import random\n",
    "\n",
    "move_rankings = []\n",
    "pokemon_ids = [random.randint(1, 1010) for i in range(5)]\n",
    "for pokemon_id in pokemon_ids:\n",
    "    # 各ベクトルのユークリッド距離を計算\n",
    "    distances = torch.norm(pokemon_vectors[pokemon_id] - move_vectors, dim=1)\n",
    "\n",
    "    # 距離を用いてベクトルBの添え字を並び替え\n",
    "    sorted_indices = torch.argsort(distances)\n",
    "    move_rankings.append(sorted_indices)\n"
   ]
  },
  {
   "cell_type": "code",
   "execution_count": 21,
   "metadata": {},
   "outputs": [
    {
     "name": "stdout",
     "output_type": "stream",
     "text": [
      "選ばれたポケモン: gigalith\n",
      "top0~top100: 28 top100~top200: 15 top200~top300: 7 top300~top400: 4 top400~top500: 1 top500~top600: 0 top600~top700: 0 top700~top800: 1 top800~top900: 0 \n",
      "選ばれたポケモン: nidoking\n",
      "top0~top100: 68 top100~top200: 29 top200~top300: 17 top300~top400: 13 top400~top500: 3 top500~top600: 2 top600~top700: 1 top700~top800: 1 top800~top900: 0 \n",
      "選ばれたポケモン: cubone\n",
      "top0~top100: 54 top100~top200: 23 top200~top300: 10 top300~top400: 1 top400~top500: 4 top500~top600: 2 top600~top700: 1 top700~top800: 1 top800~top900: 0 \n",
      "選ばれたポケモン: munna\n",
      "top0~top100: 26 top100~top200: 19 top200~top300: 14 top300~top400: 10 top400~top500: 3 top500~top600: 1 top600~top700: 1 top700~top800: 1 top800~top900: 0 \n",
      "選ばれたポケモン: overqwil\n",
      "top0~top100: 24 top100~top200: 6 top200~top300: 5 top300~top400: 5 top400~top500: 2 top500~top600: 2 top600~top700: 5 top700~top800: 1 top800~top900: 0 \n"
     ]
    }
   ],
   "source": [
    "import json\n",
    "text = ''\n",
    "\n",
    "for i, pokemon_id in enumerate(pokemon_ids):\n",
    "    with open(f'D:/tanaka/Documents/poke-move/data\\pokemons\\{pokemon_id}.json') as f:\n",
    "        pokemon = json.load(f)\n",
    "    learned_moves = list(map(lambda x: x[\"move\"][\"name\"], pokemon[\"moves\"]))\n",
    "    print(f'選ばれたポケモン: {pokemon[\"name\"]}')\n",
    "    \n",
    "    for s in range(0, 801, 100):\n",
    "        cnt = 0\n",
    "        for j, move_id in enumerate(move_rankings[i][s:s+100]):\n",
    "            move = dataset.moves[move_id]\n",
    "            cnt += 1 if move.name in learned_moves else 0\n",
    "        print(f'top{s}~top{s+100}: {cnt}', end=' ')\n",
    "    print()"
   ]
  }
 ],
 "metadata": {
  "kernelspec": {
   "display_name": "base",
   "language": "python",
   "name": "python3"
  },
  "language_info": {
   "codemirror_mode": {
    "name": "ipython",
    "version": 3
   },
   "file_extension": ".py",
   "mimetype": "text/x-python",
   "name": "python",
   "nbconvert_exporter": "python",
   "pygments_lexer": "ipython3",
   "version": "3.9.7"
  },
  "orig_nbformat": 4
 },
 "nbformat": 4,
 "nbformat_minor": 2
}
