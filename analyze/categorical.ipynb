{
 "cells": [
  {
   "cell_type": "code",
   "execution_count": 2,
   "metadata": {},
   "outputs": [],
   "source": [
    "import json\n",
    "import glob\n",
    "import matplotlib.pyplot as plt"
   ]
  },
  {
   "cell_type": "code",
   "execution_count": 19,
   "metadata": {},
   "outputs": [],
   "source": [
    "pokemons_paths = glob.glob('../data/moves/*.json')\n",
    "# pokemons_paths = glob.glob('../data/pokemons/*.json')\n",
    "KEY = \"damage_class\"\n",
    "types_dict = {}\n",
    "for pp in pokemons_paths:\n",
    "    with open(pp, 'r') as f:\n",
    "        pokemon = json.load(f)\n",
    "    # for a in pokemon[\"species\"]:\n",
    "    #     type_name = a[\"name\"]\n",
    "    type_name = pokemon[\"damage_class\"][\"name\"]\n",
    "    if type_name not in types_dict:\n",
    "        types_dict[type_name] = 0\n",
    "    types_dict[type_name] += 1\n"
   ]
  },
  {
   "cell_type": "code",
   "execution_count": 20,
   "metadata": {},
   "outputs": [],
   "source": [
    "category_to_int = {category: i for i, category in enumerate(types_dict.keys())}"
   ]
  },
  {
   "cell_type": "code",
   "execution_count": 21,
   "metadata": {},
   "outputs": [],
   "source": [
    "with open(f'../data/categorical_mapping/{KEY}.json', 'w') as f:\n",
    "    json.dump(category_to_int, f)"
   ]
  }
 ],
 "metadata": {
  "kernelspec": {
   "display_name": "base",
   "language": "python",
   "name": "python3"
  },
  "language_info": {
   "codemirror_mode": {
    "name": "ipython",
    "version": 3
   },
   "file_extension": ".py",
   "mimetype": "text/x-python",
   "name": "python",
   "nbconvert_exporter": "python",
   "pygments_lexer": "ipython3",
   "version": "3.9.7"
  },
  "orig_nbformat": 4
 },
 "nbformat": 4,
 "nbformat_minor": 2
}
