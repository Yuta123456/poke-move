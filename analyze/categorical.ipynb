{
 "cells": [
  {
   "cell_type": "code",
   "execution_count": 1,
   "metadata": {},
   "outputs": [],
   "source": [
    "import json\n",
    "import glob\n",
    "import matplotlib.pyplot as plt"
   ]
  },
  {
   "cell_type": "code",
   "execution_count": 8,
   "metadata": {},
   "outputs": [],
   "source": [
    "pokemons_paths = glob.glob('../data/moves/*.json')\n",
    "pokemons_paths = glob.glob('../data/pokemons/*.json')\n",
    "pokemons_paths = glob.glob('../data/pokemon-species/*.json')\n",
    "# KEY = \"egg_groups\"\n",
    "egg_groups = {}\n",
    "shapes = {}\n",
    "for pp in pokemons_paths:\n",
    "    with open(pp, 'r') as f:\n",
    "        pokemon = json.load(f)\n",
    "    # for a in pokemon[\"species\"]:\n",
    "    #     type_name = a[\"name\"]\n",
    "    for e in pokemon[\"egg_groups\"]:\n",
    "        if e[\"name\"] not in egg_groups:\n",
    "            egg_groups[e[\"name\"]] = 0\n",
    "        egg_groups[e[\"name\"]] += 1\n",
    "    if pokemon[\"shape\"] == None:\n",
    "        continue\n",
    "    s = pokemon[\"shape\"][\"name\"]\n",
    "    if s not in shapes:\n",
    "        shapes[s] = 0\n",
    "    shapes[s] += 1\n"
   ]
  },
  {
   "cell_type": "code",
   "execution_count": 9,
   "metadata": {},
   "outputs": [],
   "source": [
    "category_to_int = {category: i for i, category in enumerate(egg_groups.keys())}"
   ]
  },
  {
   "cell_type": "code",
   "execution_count": 10,
   "metadata": {},
   "outputs": [],
   "source": [
    "with open(f'../data/categorical_mapping/egg_groups.json', 'w') as f:\n",
    "    json.dump(category_to_int, f)"
   ]
  },
  {
   "cell_type": "code",
   "execution_count": 11,
   "metadata": {},
   "outputs": [],
   "source": [
    "category_to_int = {category: i for i, category in enumerate(shapes.keys())}"
   ]
  },
  {
   "cell_type": "code",
   "execution_count": 12,
   "metadata": {},
   "outputs": [],
   "source": [
    "with open(f'../data/categorical_mapping/shapes.json', 'w') as f:\n",
    "    json.dump(category_to_int, f)"
   ]
  },
  {
   "cell_type": "code",
   "execution_count": 13,
   "metadata": {},
   "outputs": [
    {
     "data": {
      "text/plain": [
       "{'quadruped': 169,\n",
       " 'armor': 40,\n",
       " 'ball': 42,\n",
       " 'heads': 16,\n",
       " 'legs': 23,\n",
       " 'upright': 190,\n",
       " 'humanoid': 137,\n",
       " 'squiggle': 37,\n",
       " 'blob': 38,\n",
       " 'fish': 41,\n",
       " 'bug-wings': 21,\n",
       " 'tentacles': 23,\n",
       " 'wings': 80,\n",
       " 'arms': 48}"
      ]
     },
     "execution_count": 13,
     "metadata": {},
     "output_type": "execute_result"
    }
   ],
   "source": [
    "shapes"
   ]
  },
  {
   "cell_type": "code",
   "execution_count": 14,
   "metadata": {},
   "outputs": [
    {
     "data": {
      "text/plain": [
       "{'monster': 81,\n",
       " 'plant': 87,\n",
       " 'bug': 91,\n",
       " 'mineral': 81,\n",
       " 'no-eggs': 141,\n",
       " 'humanshape': 70,\n",
       " 'indeterminate': 61,\n",
       " 'ground': 278,\n",
       " 'fairy': 66,\n",
       " 'water1': 114,\n",
       " 'dragon': 69,\n",
       " 'water2': 34,\n",
       " 'water3': 37,\n",
       " 'ditto': 1,\n",
       " 'flying': 73}"
      ]
     },
     "execution_count": 14,
     "metadata": {},
     "output_type": "execute_result"
    }
   ],
   "source": [
    "egg_groups"
   ]
  }
 ],
 "metadata": {
  "kernelspec": {
   "display_name": "base",
   "language": "python",
   "name": "python3"
  },
  "language_info": {
   "codemirror_mode": {
    "name": "ipython",
    "version": 3
   },
   "file_extension": ".py",
   "mimetype": "text/x-python",
   "name": "python",
   "nbconvert_exporter": "python",
   "pygments_lexer": "ipython3",
   "version": "3.9.7"
  },
  "orig_nbformat": 4
 },
 "nbformat": 4,
 "nbformat_minor": 2
}
