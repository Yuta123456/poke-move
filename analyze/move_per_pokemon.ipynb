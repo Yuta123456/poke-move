{
 "cells": [
  {
   "cell_type": "code",
   "execution_count": 14,
   "metadata": {},
   "outputs": [
    {
     "name": "stdout",
     "output_type": "stream",
     "text": [
      "psyblade\n",
      "hydro-steam\n"
     ]
    }
   ],
   "source": [
    "import json\n",
    "import glob\n",
    "import matplotlib.pyplot as plt\n",
    "\n",
    "move_paths = glob.glob('../data/moves/*.json')\n",
    "KEY = \"learned_by_pokemon\"\n",
    "moves = {}\n",
    "# {\n",
    "#             \"name\": \"clefairy\",\n",
    "#             \"url\": \"https://pokeapi.co/api/v2/pokemon/35/\"\n",
    "#     },\n",
    "\n",
    "# \"names\": [\n",
    "#         {\n",
    "#             \"language\": {\n",
    "#                 \"name\": \"ja-Hrkt\",\n",
    "#                 \"url\": \"https://pokeapi.co/api/v2/language/1/\"\n",
    "#             },\n",
    "#             \"name\": \"\\u306f\\u305f\\u304f\"\n",
    "#         },\n",
    "for pp in move_paths:\n",
    "    with open(pp, 'r') as f:\n",
    "        move = json.load(f)\n",
    "    pokemons = move[KEY]\n",
    "    count = len(pokemons)\n",
    "    js_name = list(filter(lambda x: x[\"language\"][\"name\"] == 'ja', move[\"names\"]))\n",
    "    if len(js_name) == 0:\n",
    "        print(move[\"name\"])\n",
    "        continue\n",
    "    \n",
    "    moves[move[\"id\"]] = count\n",
    "    # for p in pokemons:\n",
    "    #     name = p[name]\n",
    "        \n"
   ]
  },
  {
   "cell_type": "code",
   "execution_count": 15,
   "metadata": {},
   "outputs": [],
   "source": [
    "move_list = list(moves.items())\n",
    "move_list.sort(key=lambda x: -x[1])"
   ]
  },
  {
   "cell_type": "code",
   "execution_count": 16,
   "metadata": {},
   "outputs": [],
   "source": [
    "with open('output.txt', 'w') as f:\n",
    "    text = [f\"{i[0]} {i[1]}\"for i in move_list]\n",
    "    f.write(\"\\n\".join(text))"
   ]
  }
 ],
 "metadata": {
  "kernelspec": {
   "display_name": "base",
   "language": "python",
   "name": "python3"
  },
  "language_info": {
   "codemirror_mode": {
    "name": "ipython",
    "version": 3
   },
   "file_extension": ".py",
   "mimetype": "text/x-python",
   "name": "python",
   "nbconvert_exporter": "python",
   "pygments_lexer": "ipython3",
   "version": "3.9.7"
  },
  "orig_nbformat": 4
 },
 "nbformat": 4,
 "nbformat_minor": 2
}
